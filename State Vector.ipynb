{
 "cells": [
  {
   "cell_type": "markdown",
   "id": "16a16c4b-b02e-47d0-b718-8f1bc76e97b8",
   "metadata": {},
   "source": [
    "<h2> Statevector </h2>"
   ]
  },
  {
   "cell_type": "markdown",
   "id": "0789a98e-d884-4e9f-9960-b4814aa100fa",
   "metadata": {},
   "source": [
    "Qiskit's Statevector class provides functionality for defining and manipulating quantum state vectors. <br>\n",
    "A state vector in quantum mechanics represents the <b>quantum state </b>of a system. For the state vector to be valid, it must satisfy specific conditions that ensure it adheres to the fundamental principles of quantum theory. These conditions are primarily based on the concepts of normalization and unitarity. <br>\n",
    "1. <h5>Normalization Condition:</h5> \n",
    "The state vector must be normalized, meaning its total probability must sum to 1. This reflects the fact that the system must be in some state with 100% certainty. <br>\n",
    "Mathematically, if ∣𝜓⟩ is a state vector, it must satisfy the following condition: ⟨ψ∣ψ⟩=1\n",
    "That is he inner product (or dot product) of the state vector, which results to the total probability of all possible outcomes.\n",
    "<br>\n",
    "For a single qubit, the state ∣𝜓⟩=𝛼∣0⟩+𝛽∣1⟩ must satisfy the normalization condition: 𝛼^2 + 𝛽^2=1\n",
    "\n",
    "2. <h5>State Vector Must Live in a Hilbert Space</h5>\n",
    "   A valid state vector must belong to a Hilbert space, which is a vector space with certain properties, including: <br>\n",
    "   (a)Completeness (i.e., it contains all possible states that the system can be in).\n",
    "   (b)Ability to perform inner products, which are essential for calculating probabilities.\n",
    "   For a system of n qubits, the state lives in a 2^n  dimensional Hilbert space.\n",
    "3. <h5>Superposition of Basis States<h/5>\n",
    "   A valid state vector can be expressed as a superposition of basis states. Any valid state must be a linear combination of these basis \n",
    "   states with complex coefficients\n",
    "4. <h5>Unitarity of Quantum Evolution</h5>\n",
    "    While the above three points describe a valid state at a specific moment, any change to a quantum state (such as due to time evolution \n",
    "    or a quantum gate) must be unitary. Unitary transformations preserve the normalization of the state vector over time.<br>\n",
    "    A unitary matrix U satisfies the condition: U'U = UU' = I , where U' is the conjugate transpose of U. I is the identity matrix. \n",
    "\n",
    "Summary of Conditions for a Valid State Vector:<br>\n",
    "<b>Normalization:</b> The state vector must have a total probability of 1 (i.e., ⟨𝜓∣𝜓⟩=1). <br>\n",
    "<b>Hilbert Space: </b>The state must belong to the appropriate Hilbert space for the system.<br>\n",
    "<b>Superposition: </b>The state can be a superposition of valid basis states.<br>\n",
    "<b>Unitary Evolution:</b> Any evolution or transformation of the state must be unitary to preserve normalization.\n",
    "\n",
    "<h5>If any of these conditions are violated, the state vector will not be valid, meaning it would not correspond to a physically realizable quantum state.</h5>\n",
    " "
   ]
  },
  {
   "cell_type": "code",
   "execution_count": 2,
   "id": "43811d63-18af-4116-9f86-7868d0f2ee41",
   "metadata": {},
   "outputs": [
    {
     "name": "stdout",
     "output_type": "stream",
     "text": [
      "State vectors u, v, and w have been defined.\n"
     ]
    }
   ],
   "source": [
    "from qiskit.quantum_info import Statevector\n",
    "from numpy import sqrt\n",
    "\n",
    "u = Statevector([1 / sqrt(2), 1 / sqrt(2)])\n",
    "v = Statevector([(1 + 2.0j) / 3, -2 / 3])\n",
    "w = Statevector([1 / 3, 2 / 3])\n",
    "\n",
    "print(\"State vectors u, v, and w have been defined.\")"
   ]
  },
  {
   "cell_type": "code",
   "execution_count": 3,
   "id": "ca6ba415-5e5f-4fe7-9cd2-a3f84c7c040c",
   "metadata": {},
   "outputs": [
    {
     "data": {
      "text/latex": [
       "$$\\frac{\\sqrt{2}}{2} |0\\rangle+\\frac{\\sqrt{2}}{2} |1\\rangle$$"
      ],
      "text/plain": [
       "<IPython.core.display.Latex object>"
      ]
     },
     "metadata": {},
     "output_type": "display_data"
    }
   ],
   "source": [
    "#Let us display the State vectors defined using display() with draw() method of Statevector class\n",
    "display(u.draw(\"latex\"))"
   ]
  },
  {
   "cell_type": "markdown",
   "id": "fae1129d-94ee-4208-b439-60e2c6bc2025",
   "metadata": {},
   "source": [
    "The quantum state defined above has probability amplitudes  of half of root 2  for both states:  ∣0⟩ and ∣1⟩"
   ]
  },
  {
   "cell_type": "code",
   "execution_count": 4,
   "id": "d4b0a1f5-2730-48d1-8b9a-6c4e8dc51c44",
   "metadata": {},
   "outputs": [
    {
     "data": {
      "text/plain": [
       "[ 0.33333333+0.66666667j,-0.66666667+0.j        ]"
      ]
     },
     "metadata": {},
     "output_type": "display_data"
    }
   ],
   "source": [
    "# To compute the vectors in values\n",
    "display(v.draw(\"text\"))"
   ]
  },
  {
   "cell_type": "markdown",
   "id": "483d02ff-acc2-4eea-8c54-fac0aa2cd4d5",
   "metadata": {},
   "source": [
    "The <b>Statevector </b>class also includes the <b>is_valid</b> method, which checks to see if a given vector is a valid quantum state vector (i.e., that it has Euclidean norm equal to 1):"
   ]
  },
  {
   "cell_type": "code",
   "execution_count": 5,
   "id": "658f48f0-b938-40d2-9224-86e092b2b46d",
   "metadata": {},
   "outputs": [
    {
     "data": {
      "text/plain": [
       "True"
      ]
     },
     "metadata": {},
     "output_type": "display_data"
    }
   ],
   "source": [
    "display(u.is_valid()) "
   ]
  },
  {
   "cell_type": "markdown",
   "id": "195fb42a-e67f-4010-ac5c-2cb19a6ff6a7",
   "metadata": {},
   "source": [
    "As you can see  <b>u = Statevector([1 / sqrt(2), 1 / sqrt(2)]) </b> defined above is a valid state vector"
   ]
  },
  {
   "cell_type": "markdown",
   "id": "84e8f710-2407-4124-a1dc-0a5de0fa22f9",
   "metadata": {},
   "source": [
    "But let us check for <b> w = Statevector([1 / 3, 2 / 3]) </b>"
   ]
  },
  {
   "cell_type": "code",
   "execution_count": 6,
   "id": "1c1c4c68-63f9-461d-bc47-d146c995e0e5",
   "metadata": {},
   "outputs": [
    {
     "data": {
      "text/plain": [
       "False"
      ]
     },
     "metadata": {},
     "output_type": "display_data"
    }
   ],
   "source": [
    "display(w.is_valid())"
   ]
  },
  {
   "cell_type": "markdown",
   "id": "3231a7ed-e2c5-4f24-9f0c-385708d212d4",
   "metadata": {},
   "source": [
    "It is not a valid state vector. (1/3)^2 + (2/3)^2 is not equal to 1"
   ]
  },
  {
   "cell_type": "code",
   "execution_count": 9,
   "id": "ef199ddc-8f71-467a-aa0b-8338d56e0055",
   "metadata": {},
   "outputs": [
    {
     "data": {
      "text/latex": [
       "$$(\\frac{1}{3} + \\frac{2 i}{3}) |0\\rangle- \\frac{2}{3} |1\\rangle$$"
      ],
      "text/plain": [
       "<IPython.core.display.Latex object>"
      ]
     },
     "execution_count": 9,
     "metadata": {},
     "output_type": "execute_result"
    }
   ],
   "source": [
    "\n",
    "v = Statevector([(1 + 2.0j) / 3, -2 / 3])\n",
    "v.draw(\"latex\")"
   ]
  },
  {
   "cell_type": "markdown",
   "id": "ccb2dd3f-9e30-47ea-872e-342a984014ac",
   "metadata": {},
   "source": [
    "<h4>MEASEUREMENT OF QUANTUM SYSTEM</h4>\n",
    "To measure a Quantum system, there is need to learn <b>Heisenberg’s Uncertainty Principle</b>  which states that there are certain pairs of physical properties (called complementary variables) of a particle that cannot be precisely measured or known simultaneously. The more accurately one property is known, the less accurately the other can be known.  "
   ]
  },
  {
   "cell_type": "markdown",
   "id": "9d695abd-1dac-4ab0-8d3c-52f9c095a25c",
   "metadata": {},
   "source": [
    "By this principle ,it means a quantum at superposition, all the states of a quantum system exist,but the superposition collapse after measurement"
   ]
  },
  {
   "cell_type": "markdown",
   "id": "99819828-aa46-49e5-b1b3-3002b0605e5e",
   "metadata": {},
   "source": [
    "Measurements of quantum states can be simulated in Qiskit, using the measure method from the Statevector class."
   ]
  },
  {
   "cell_type": "code",
   "execution_count": 13,
   "id": "0f568a20-1d87-4ecd-8da9-cc92c7a29723",
   "metadata": {},
   "outputs": [
    {
     "data": {
      "text/latex": [
       "$$(\\frac{1}{3} + \\frac{2 i}{3}) |0\\rangle- \\frac{2}{3} |1\\rangle$$"
      ],
      "text/plain": [
       "<IPython.core.display.Latex object>"
      ]
     },
     "execution_count": 13,
     "metadata": {},
     "output_type": "execute_result"
    }
   ],
   "source": [
    "v = Statevector([(1 + 2.0j) / 3, -2 / 3])\n",
    "v.draw(\"latex\")\n",
    "\n"
   ]
  },
  {
   "cell_type": "code",
   "execution_count": 14,
   "id": "6ca61f31-2749-4047-9eaa-294529c4d35f",
   "metadata": {},
   "outputs": [
    {
     "data": {
      "text/plain": [
       "('0',\n",
       " Statevector([0.4472136+0.89442719j, 0.       +0.j        ],\n",
       "             dims=(2,)))"
      ]
     },
     "execution_count": 14,
     "metadata": {},
     "output_type": "execute_result"
    }
   ],
   "source": [
    "v.measure()"
   ]
  },
  {
   "cell_type": "markdown",
   "id": "0f6a4a48-a35c-4796-bc99-b74126d36d6a",
   "metadata": {},
   "source": [
    "Statevector also comes with a sample_counts method that allows for the simulation of any number of measurements on the system."
   ]
  },
  {
   "cell_type": "code",
   "execution_count": 16,
   "id": "7e79e471-eaab-4789-b124-8d237df7b1a1",
   "metadata": {},
   "outputs": [
    {
     "data": {
      "text/plain": [
       "{'0': 547, '1': 453}"
      ]
     },
     "metadata": {},
     "output_type": "display_data"
    },
    {
     "data": {
      "image/png": "[encoded data removed]",
      "text/plain": [
       "<Figure size 640x480 with 1 Axes>"
      ]
     },
     "execution_count": 16,
     "metadata": {},
     "output_type": "execute_result"
    }
   ],
   "source": [
    "from qiskit.visualization import plot_histogram\n",
    "\n",
    "statistics = v.sample_counts(1000)\n",
    "display(statistics)\n",
    "plot_histogram(statistics)  # Example of what statistics could look like: {'000': 520, '111': 480}\n",
    "# In this example, the quantum system was measured in the state ∣000⟩ 520 times and in the state ∣111⟩ 480 times."
   ]
  },
  {
   "cell_type": "code",
   "execution_count": null,
   "id": "62c90417-3b70-4e56-af8a-921f413c294e",
   "metadata": {},
   "outputs": [],
   "source": []
  }
 ],
 "metadata": {
  "kernelspec": {
   "display_name": "Python 3 (ipykernel)",
   "language": "python",
   "name": "python3"
  },
  "language_info": {
   "codemirror_mode": {
    "name": "ipython",
    "version": 3
   },
   "file_extension": ".py",
   "mimetype": "text/x-python",
   "name": "python",
   "nbconvert_exporter": "python",
   "pygments_lexer": "ipython3",
   "version": "3.12.3"
  }
 },
 "nbformat": 4,
 "nbformat_minor": 5
}
